{
 "cells": [
  {
   "cell_type": "code",
   "execution_count": 3,
   "metadata": {
    "collapsed": false
   },
   "outputs": [
    {
     "name": "stdout",
     "output_type": "stream",
     "text": [
      "All_File_info.xls\n",
      "PSA\n",
      "PSA\n",
      "EQo_94_19_42.jpg\n",
      "hererer\n"
     ]
    },
    {
     "data": {
      "image/png": "[encoded data removed]",
      "text/plain": [
       "<matplotlib.figure.Figure at 0x7f3c2b1862b0>"
      ]
     },
     "metadata": {},
     "output_type": "display_data"
    },
    {
     "name": "stdout",
     "output_type": "stream",
     "text": [
      "hererer\n"
     ]
    },
    {
     "data": {
      "image/png": "[encoded data removed]",
      "text/plain": [
       "<matplotlib.figure.Figure at 0x7f3c2ae17668>"
      ]
     },
     "metadata": {},
     "output_type": "display_data"
    },
    {
     "name": "stdout",
     "output_type": "stream",
     "text": [
      "PSA\n",
      "/data/Gurpreet/Echo/Sorted_Images/PSA/EQo_94_19_42.jpg\n",
      "'GE Vingmed Ultrasound' 636 434\n",
      "(434, 636)\n",
      "<class 'numpy.ndarray'>\n",
      "(26, 2)\n"
     ]
    },
    {
     "data": {
      "image/png": "[encoded data removed]",
      "text/plain": [
       "<matplotlib.figure.Figure at 0x7f3c2b3b7208>"
      ]
     },
     "metadata": {},
     "output_type": "display_data"
    }
   ],
   "source": [
    "import skimage.io as io\n",
    "\n",
    "from skimage.filters import threshold_mean as tm\n",
    "from skimage.filters import threshold_otsu as to\n",
    "import numpy as np\n",
    "import matplotlib.pyplot as plt\n",
    "from skimage import img_as_uint\n",
    "from conv import *\n",
    "from skimage import io\n",
    "from glc import *\n",
    "\n",
    "import pandas as pd\n",
    "path='/data/Gurpreet/Echo/Sorted_Images/'\n",
    "import os\n",
    "\n",
    "\n",
    "####### NOTE - remember to check what are in the directories used below once you get access to the server\n",
    "####### you might also want to change the 'gabriel' parts to your work directory in /data/\n",
    "\n",
    "\n",
    "\n",
    "\n",
    "### rev_dic= {'<image_name>':'<string containing Manufacturer and resolution'}\n",
    "### helps me map image name to the manufacturer info of the Echo Machine\n",
    "\n",
    "for a in os.listdir(\"/data/gabriel/OCR/\"):\n",
    "    #print(a)\n",
    "    if('All' in a and 'lock' not in a):\n",
    "        print(a)\n",
    "        data = pd.ExcelFile(\"/data/gabriel/OCR/\"+a,header=None).parse('Sheet1')\n",
    "dic = {}\n",
    "\n",
    "#a = np.unique(np.array(data[1]))\n",
    "#print(a)\n",
    "\n",
    "count = 0\n",
    "#print(data.iloc[0])\n",
    "\n",
    "\n",
    "\n",
    "for i in range(0,len(data)):\n",
    "    #print(data[i])\n",
    "    #print(data.iloc[i][0],data.iloc[i][1],data.iloc[i][2],data.iloc[i][3],data.iloc[i][4])\n",
    "    temp = list(data.iloc[i])\n",
    "    #print(temp)\n",
    "    #print(temp[0],temp[1],temp[2],temp[3],temp[4])\n",
    "    count+=1\n",
    "    #if(temp[0])not in dic:\n",
    "         #'EQo_62_22_13.jpg'\n",
    "    #    dic[temp[0]] = {}\n",
    "    \n",
    "    if(str(temp[3])+' '+str(temp[4])+' '+str(temp[5]) not in dic):\n",
    "        \n",
    "        dic[str(temp[3])+' '+str(temp[4])+' '+str(temp[5])] = []\n",
    "    \n",
    "    dic[str(temp[3])+' '+str(temp[4])+' '+str(temp[5])].append('EQo_'+str(eval(temp[0]))+'_'+str(eval(temp[1]))+'_'+str(temp[2])+'.jpg')\n",
    "    \n",
    "\n",
    "lis={}\n",
    "for i,j,k in os.walk('/data/Gurpreet/Echo/Sorted_Images'):\n",
    "    #print(i)\n",
    "    #print(j)\n",
    "    #print(k)\n",
    "    \n",
    "    if len(j)==0:\n",
    "        for z in k:\n",
    "            #print(z)\n",
    "            for s in dic:\n",
    "                if z in dic[s]:\n",
    "                    if(s not in lis):\n",
    "                        lis[s]=[]\n",
    "                    lis[s].append(z)\n",
    "            #lis = {s:lis[s].append(z) for s in dic if z in dic[s]}\n",
    "            #print(lis)\n",
    "            #break\n",
    "        #break\n",
    "            \n",
    "    #print(k)\n",
    "rev_dic= {}\n",
    "for i in lis:\n",
    "    for j in lis[i]:\n",
    "        if(j not in rev_dic):\n",
    "            rev_dic[j]=None\n",
    "        rev_dic[j]=i\n",
    "\n",
    "        \n",
    "### Below part executes the entire pipeline to extract each charecter present in images.\n",
    "        \n",
    "def extract_text():\n",
    "    subd = ['PSA', 'SCX', 'SSX', 'A4C', 'A2C', 'PLA', 'A3C']\n",
    "    count=0\n",
    "    for i in subd:\n",
    "        #print(i)\n",
    "        count+=1\n",
    "        print(i)\n",
    "        for j in rev_dic.keys():\n",
    "            print(i)\n",
    "            print(j)\n",
    "            if j in os.listdir('/data/Gurpreet/Echo/Sorted_Images/' + str(i) ):\n",
    "                \n",
    "                rimg = plt.imread('/data/Gurpreet/Echo/Sorted_Images/' + i+'/'+j)\n",
    "                #plt.imshow(rimg,cmap='gray'),plt.show()\n",
    "                ok = get_echo(rimg=plt.imread('/data/Gurpreet/Echo/Sorted_Images/' + i+'/'+j),company=rev_dic[j][1:-9],R = int(rev_dic[j][-7:-4]),C = int(rev_dic[j][-3:]),ocr_flag=0)\n",
    "                #io.imsave('/data/gabriel/OCR/test'+str(count)+'.png',(ok)) \n",
    "                \n",
    "                #plt.imshow(ok,cmap='gray'),plt.show()\n",
    "                im,ekg = get_echo(rimg=plt.imread('/data/Gurpreet/Echo/Sorted_Images/' + i+'/'+j),company=rev_dic[j][1:-9],R = int(rev_dic[j][-7:-4]),C = int(rev_dic[j][-3:]),ocr_flag=1)\n",
    "                print(i)\n",
    "                print('/data/Gurpreet/Echo/Sorted_Images/' + i+'/'+j)\n",
    "                print(rev_dic[j])\n",
    "                #plt.imshow(im,cmap='gray'),plt.show()\n",
    "                \n",
    "                thresh = to(im)\n",
    "                \n",
    "                binary = im>thresh\n",
    "                #plt.imshow(binary,cmap='gray'),plt.show()\n",
    "                #io.imsave('/data/gabriel/OCR/test'+str(count)+'.png',(binary)) \n",
    "                \n",
    "                print(binary.shape)\n",
    "                print(type(binary))\n",
    "                bbox = get_glyphs(binary)\n",
    "                #break\n",
    "                \n",
    "                #im=img_as_uint(im)\n",
    "                \n",
    "                #bbox = get_glyphs(binary)\n",
    "                part=im\n",
    "                for p in range(0,len(bbox)):\n",
    "               \n",
    "                    count+=1\n",
    "                    t_img = z_pad(binary[bbox[p][0]:bbox[p][2],bbox[p][1]:bbox[p][3]])\n",
    "                    plt.imshow(t_img),plt.show()\n",
    "                    #return\n",
    "                    ### below is to save the images.\n",
    "                    #io.imsave('/data/gabriel/OCR/'+str(count)+'.png',t_img) \n",
    "                    \n",
    "                    #return\n",
    "extract_text()       "
   ]
  }
 ],
 "metadata": {
  "anaconda-cloud": {},
  "kernelspec": {
   "display_name": "Python [conda root]",
   "language": "python",
   "name": "conda-root-py"
  },
  "language_info": {
   "codemirror_mode": {
    "name": "ipython",
    "version": 3
   },
   "file_extension": ".py",
   "mimetype": "text/x-python",
   "name": "python",
   "nbconvert_exporter": "python",
   "pygments_lexer": "ipython3",
   "version": "3.6.0"
  }
 },
 "nbformat": 4,
 "nbformat_minor": 0
}
