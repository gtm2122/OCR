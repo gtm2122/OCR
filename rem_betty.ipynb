{
 "cells": [
  {
   "cell_type": "code",
   "execution_count": 1,
   "metadata": {
    "collapsed": false
   },
   "outputs": [
    {
     "ename": "IndentationError",
     "evalue": "expected an indented block (glc.py, line 30)",
     "output_type": "error",
     "traceback": [
      "\u001b[0;36m  File \u001b[0;32m\"glc.py\"\u001b[0;36m, line \u001b[0;32m30\u001b[0m\n\u001b[0;31m    glyph_coord = []\u001b[0m\n\u001b[0m              ^\u001b[0m\n\u001b[0;31mIndentationError\u001b[0m\u001b[0;31m:\u001b[0m expected an indented block\n"
     ]
    }
   ],
   "source": [
    "import skimage.io as io\n",
    "from skimage.filters import threshold_mean as tm\n",
    "from skimage.filters import threshold_otsu as to\n",
    "import numpy as np\n",
    "import matplotlib.pyplot as plt\n",
    "from skimage import img_as_uint\n",
    "from conv import get_echo,z_pad\n",
    "from skimage import io\n",
    "from glc import *\n",
    "\n",
    "import pandas as pd\n",
    "#path = '/data/Gurpreet/Echo/Normal_Images/Sorted_Images'\n",
    "#path='/data/Gurpreet/Echo/Sorted_Images/'\n",
    "import os"
   ]
  },
  {
   "cell_type": "code",
   "execution_count": null,
   "metadata": {
    "collapsed": true
   },
   "outputs": [],
   "source": [
    "# make sure j is an img\n",
    "for j in os.listdir('/data/kmeans2/A2C/'):\n",
    "    if '.png' in j:\n",
    "    \n",
    "        rimg = plt.imread('/data/kmeans2/A2C/' +j)\n",
    "    #plt.imshow(rimg,cmap='gray'),plt.show()\n",
    "    #ok = get_echo(rimg=plt.imread('/Users/bettychou1993/Desktop/OCR' + i+'/'+j),company=rev_dic[j][1:-9],R = int(rev_dic[j][-7:-4]),C = int(rev_dic[j][-3:]),ocr_flag=0)\n",
    "    #misc.imsave('/Users/bettychou1993/Desktop/OCR' + str(count) + '.png',(ok)) \n",
    "    #imggg = plt.imread('/Users/bettychou1993/Desktop/OCR' + i+'/'+j)\n",
    "    #misc.imsave('/Users/bettychou1993/Desktop/OCR/imggg.png',imggg)\n",
    "    #plt.imshow(ok,cmap='gray'),plt.show()\n",
    "    #im,ekg = get_echo(rimg=plt.imread('/Users/bettychou1993/Desktop/OCR' + i+'/'+j),company=rev_dic[j][1:-9],R = int(rev_dic[j][-7:-4]),C = int(rev_dic[j][-3:]),ocr_flag=1)\n",
    "    #print(i)\n",
    "    #print('/Users/bettychou1993/Desktop/OCR' + i+'/'+j)\n",
    "    #print(rev_dic[j])\n",
    "    #plt.imshow(im,cmap='gray'),plt.show()\n",
    "    #misc.imsave('/data/gabriel/OCR/im.png',im)\n",
    "    #plt.imshow(ekg),plt.show()\n",
    "    #misc.imsave('/Users/bettychou1993/Desktop/OCR',ekg)\n",
    "    #break\n",
    "    #thresh = to(im)\n",
    "    #break\n",
    "    #binary = im>thresh\n",
    "    #plt.imshow(binary,cmap='gray'),plt.show()\n",
    "    #io.imsave('/data/gabriel/OCR/test'+str(count)+'.png',(binary)) \n",
    "\n",
    "    #print(binary.shape)\n",
    "    #print(type(binary))\n",
    "        bbox = get_glyphs(rimg)\n",
    "    #break\n",
    "\n",
    "    #im=img_as_uint(im)\n",
    "\n",
    "    #bbox = get_glyphs(binary)\n",
    "        part=im\n",
    "        for p in range(0,len(bbox)):\n",
    "\n",
    "            count+=1\n",
    "            t_img = z_pad(rimg[bbox[p][0]:bbox[p][2],bbox[p][1]:bbox[p][3]])\n",
    "            plt.imshow(t_img),plt.show()\n",
    "        #return\n",
    "        ### below is to save the images.\n",
    "            misc.imsave('/Users/bettychou1993/Desktop/OCR'+str(count)+'.png',t_img) \n",
    "        #break\n",
    "        #return\n"
   ]
  },
  {
   "cell_type": "code",
   "execution_count": null,
   "metadata": {
    "collapsed": true
   },
   "outputs": [],
   "source": []
  }
 ],
 "metadata": {
  "anaconda-cloud": {},
  "kernelspec": {
   "display_name": "Python [default]",
   "language": "python",
   "name": "python2"
  },
  "language_info": {
   "codemirror_mode": {
    "name": "ipython",
    "version": 2
   },
   "file_extension": ".py",
   "mimetype": "text/x-python",
   "name": "python",
   "nbconvert_exporter": "python",
   "pygments_lexer": "ipython2",
   "version": "2.7.12"
  }
 },
 "nbformat": 4,
 "nbformat_minor": 2
}
