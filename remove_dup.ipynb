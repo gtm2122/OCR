{
 "cells": [
  {
   "cell_type": "code",
   "execution_count": 1,
   "metadata": {
    "collapsed": true
   },
   "outputs": [],
   "source": [
    "import matplotlib.pyplot as plt\n",
    "import numpy as np\n",
    "import skimage.io as io\n",
    "import os"
   ]
  },
  {
   "cell_type": "code",
   "execution_count": 53,
   "metadata": {
    "collapsed": false,
    "scrolled": true
   },
   "outputs": [
    {
     "name": "stderr",
     "output_type": "stream",
     "text": [
      "/home/gam2018/anaconda3/envs/opencvtest/lib/python2.7/site-packages/skimage/util/dtype.py:122: UserWarning: Possible precision loss when converting from float32 to uint16\n",
      "  .format(dtypeobj_in, dtypeobj_out))\n",
      "/home/gam2018/anaconda3/envs/opencvtest/lib/python2.7/site-packages/skimage/io/_io.py:132: UserWarning: /data/gabriel/OCR/OCR_data/train_ac/unknown//1302.png is a low contrast image\n",
      "  warn('%s is a low contrast image' % fname)\n",
      "/home/gam2018/anaconda3/envs/opencvtest/lib/python2.7/site-packages/skimage/io/_io.py:132: UserWarning: /data/gabriel/OCR/OCR_data/train_ac/unknown//1081.png is a low contrast image\n",
      "  warn('%s is a low contrast image' % fname)\n",
      "/home/gam2018/anaconda3/envs/opencvtest/lib/python2.7/site-packages/skimage/io/_io.py:132: UserWarning: /data/gabriel/OCR/OCR_data/train_ac/unknown//1856.png is a low contrast image\n",
      "  warn('%s is a low contrast image' % fname)\n",
      "/home/gam2018/anaconda3/envs/opencvtest/lib/python2.7/site-packages/skimage/io/_io.py:132: UserWarning: /data/gabriel/OCR/OCR_data/train_ac/unknown//1889.png is a low contrast image\n",
      "  warn('%s is a low contrast image' % fname)\n",
      "/home/gam2018/anaconda3/envs/opencvtest/lib/python2.7/site-packages/skimage/io/_io.py:132: UserWarning: /data/gabriel/OCR/OCR_data/train_ac/unknown//327.png is a low contrast image\n",
      "  warn('%s is a low contrast image' % fname)\n",
      "/home/gam2018/anaconda3/envs/opencvtest/lib/python2.7/site-packages/skimage/io/_io.py:132: UserWarning: /data/gabriel/OCR/OCR_data/train_ac/unknown//1604.png is a low contrast image\n",
      "  warn('%s is a low contrast image' % fname)\n",
      "/home/gam2018/anaconda3/envs/opencvtest/lib/python2.7/site-packages/skimage/io/_io.py:132: UserWarning: /data/gabriel/OCR/OCR_data/train_ac/unknown//626.png is a low contrast image\n",
      "  warn('%s is a low contrast image' % fname)\n",
      "/home/gam2018/anaconda3/envs/opencvtest/lib/python2.7/site-packages/skimage/io/_io.py:132: UserWarning: /data/gabriel/OCR/OCR_data/train_ac/unknown//1013.png is a low contrast image\n",
      "  warn('%s is a low contrast image' % fname)\n",
      "/home/gam2018/anaconda3/envs/opencvtest/lib/python2.7/site-packages/skimage/io/_io.py:132: UserWarning: /data/gabriel/OCR/OCR_data/train_ac/unknown//2152.png is a low contrast image\n",
      "  warn('%s is a low contrast image' % fname)\n",
      "/home/gam2018/anaconda3/envs/opencvtest/lib/python2.7/site-packages/skimage/io/_io.py:132: UserWarning: /data/gabriel/OCR/OCR_data/train_ac/unknown//1173.png is a low contrast image\n",
      "  warn('%s is a low contrast image' % fname)\n",
      "/home/gam2018/anaconda3/envs/opencvtest/lib/python2.7/site-packages/skimage/io/_io.py:132: UserWarning: /data/gabriel/OCR/OCR_data/train_ac/unknown//489.png is a low contrast image\n",
      "  warn('%s is a low contrast image' % fname)\n",
      "/home/gam2018/anaconda3/envs/opencvtest/lib/python2.7/site-packages/skimage/io/_io.py:132: UserWarning: /data/gabriel/OCR/OCR_data/train_ac/unknown//579.png is a low contrast image\n",
      "  warn('%s is a low contrast image' % fname)\n",
      "/home/gam2018/anaconda3/envs/opencvtest/lib/python2.7/site-packages/skimage/io/_io.py:132: UserWarning: /data/gabriel/OCR/OCR_data/train_ac/unknown//2058.png is a low contrast image\n",
      "  warn('%s is a low contrast image' % fname)\n",
      "/home/gam2018/anaconda3/envs/opencvtest/lib/python2.7/site-packages/skimage/io/_io.py:132: UserWarning: /data/gabriel/OCR/OCR_data/train_ac/unknown//646.png is a low contrast image\n",
      "  warn('%s is a low contrast image' % fname)\n",
      "/home/gam2018/anaconda3/envs/opencvtest/lib/python2.7/site-packages/skimage/io/_io.py:132: UserWarning: /data/gabriel/OCR/OCR_data/train_ac/unknown//741.png is a low contrast image\n",
      "  warn('%s is a low contrast image' % fname)\n",
      "/home/gam2018/anaconda3/envs/opencvtest/lib/python2.7/site-packages/skimage/io/_io.py:132: UserWarning: /data/gabriel/OCR/OCR_data/train_ac/unknown//1816.png is a low contrast image\n",
      "  warn('%s is a low contrast image' % fname)\n",
      "/home/gam2018/anaconda3/envs/opencvtest/lib/python2.7/site-packages/skimage/io/_io.py:132: UserWarning: /data/gabriel/OCR/OCR_data/train_ac/unknown//2043.png is a low contrast image\n",
      "  warn('%s is a low contrast image' % fname)\n",
      "/home/gam2018/anaconda3/envs/opencvtest/lib/python2.7/site-packages/skimage/io/_io.py:132: UserWarning: /data/gabriel/OCR/OCR_data/train_ac/unknown//550.png is a low contrast image\n",
      "  warn('%s is a low contrast image' % fname)\n",
      "/home/gam2018/anaconda3/envs/opencvtest/lib/python2.7/site-packages/skimage/io/_io.py:132: UserWarning: /data/gabriel/OCR/OCR_data/train_ac/unknown//1562.png is a low contrast image\n",
      "  warn('%s is a low contrast image' % fname)\n",
      "/home/gam2018/anaconda3/envs/opencvtest/lib/python2.7/site-packages/skimage/io/_io.py:132: UserWarning: /data/gabriel/OCR/OCR_data/train_ac/unknown//1455.png is a low contrast image\n",
      "  warn('%s is a low contrast image' % fname)\n",
      "/home/gam2018/anaconda3/envs/opencvtest/lib/python2.7/site-packages/skimage/io/_io.py:132: UserWarning: /data/gabriel/OCR/OCR_data/train_ac/unknown//1360.png is a low contrast image\n",
      "  warn('%s is a low contrast image' % fname)\n",
      "/home/gam2018/anaconda3/envs/opencvtest/lib/python2.7/site-packages/skimage/io/_io.py:132: UserWarning: /data/gabriel/OCR/OCR_data/train_ac/unknown//1907.png is a low contrast image\n",
      "  warn('%s is a low contrast image' % fname)\n",
      "/home/gam2018/anaconda3/envs/opencvtest/lib/python2.7/site-packages/skimage/io/_io.py:132: UserWarning: /data/gabriel/OCR/OCR_data/train_ac/unknown//1969.png is a low contrast image\n",
      "  warn('%s is a low contrast image' % fname)\n",
      "/home/gam2018/anaconda3/envs/opencvtest/lib/python2.7/site-packages/skimage/io/_io.py:132: UserWarning: /data/gabriel/OCR/OCR_data/train_ac/unknown//495.png is a low contrast image\n",
      "  warn('%s is a low contrast image' % fname)\n",
      "/home/gam2018/anaconda3/envs/opencvtest/lib/python2.7/site-packages/skimage/io/_io.py:132: UserWarning: /data/gabriel/OCR/OCR_data/train_ac/unknown//2199.png is a low contrast image\n",
      "  warn('%s is a low contrast image' % fname)\n",
      "/home/gam2018/anaconda3/envs/opencvtest/lib/python2.7/site-packages/skimage/io/_io.py:132: UserWarning: /data/gabriel/OCR/OCR_data/train_ac/unknown//1672.png is a low contrast image\n",
      "  warn('%s is a low contrast image' % fname)\n",
      "/home/gam2018/anaconda3/envs/opencvtest/lib/python2.7/site-packages/skimage/io/_io.py:132: UserWarning: /data/gabriel/OCR/OCR_data/train_ac/unknown//1452.png is a low contrast image\n",
      "  warn('%s is a low contrast image' % fname)\n",
      "/home/gam2018/anaconda3/envs/opencvtest/lib/python2.7/site-packages/skimage/io/_io.py:132: UserWarning: /data/gabriel/OCR/OCR_data/train_ac/unknown//87.png is a low contrast image\n",
      "  warn('%s is a low contrast image' % fname)\n",
      "/home/gam2018/anaconda3/envs/opencvtest/lib/python2.7/site-packages/skimage/io/_io.py:132: UserWarning: /data/gabriel/OCR/OCR_data/train_ac/unknown//493.png is a low contrast image\n",
      "  warn('%s is a low contrast image' % fname)\n",
      "/home/gam2018/anaconda3/envs/opencvtest/lib/python2.7/site-packages/skimage/io/_io.py:132: UserWarning: /data/gabriel/OCR/OCR_data/train_ac/unknown//839.png is a low contrast image\n",
      "  warn('%s is a low contrast image' % fname)\n",
      "/home/gam2018/anaconda3/envs/opencvtest/lib/python2.7/site-packages/skimage/io/_io.py:132: UserWarning: /data/gabriel/OCR/OCR_data/train_ac/unknown//1502.png is a low contrast image\n",
      "  warn('%s is a low contrast image' % fname)\n",
      "/home/gam2018/anaconda3/envs/opencvtest/lib/python2.7/site-packages/skimage/io/_io.py:132: UserWarning: /data/gabriel/OCR/OCR_data/train_ac/unknown//950.png is a low contrast image\n",
      "  warn('%s is a low contrast image' % fname)\n",
      "/home/gam2018/anaconda3/envs/opencvtest/lib/python2.7/site-packages/skimage/io/_io.py:132: UserWarning: /data/gabriel/OCR/OCR_data/train_ac/unknown//1905.png is a low contrast image\n",
      "  warn('%s is a low contrast image' % fname)\n",
      "/home/gam2018/anaconda3/envs/opencvtest/lib/python2.7/site-packages/skimage/io/_io.py:132: UserWarning: /data/gabriel/OCR/OCR_data/train_ac/unknown//472.png is a low contrast image\n",
      "  warn('%s is a low contrast image' % fname)\n",
      "/home/gam2018/anaconda3/envs/opencvtest/lib/python2.7/site-packages/skimage/io/_io.py:132: UserWarning: /data/gabriel/OCR/OCR_data/train_ac/unknown//533.png is a low contrast image\n",
      "  warn('%s is a low contrast image' % fname)\n",
      "/home/gam2018/anaconda3/envs/opencvtest/lib/python2.7/site-packages/skimage/io/_io.py:132: UserWarning: /data/gabriel/OCR/OCR_data/train_ac/unknown//1786.png is a low contrast image\n",
      "  warn('%s is a low contrast image' % fname)\n",
      "/home/gam2018/anaconda3/envs/opencvtest/lib/python2.7/site-packages/skimage/io/_io.py:132: UserWarning: /data/gabriel/OCR/OCR_data/train_ac/unknown//644.png is a low contrast image\n",
      "  warn('%s is a low contrast image' % fname)\n",
      "/home/gam2018/anaconda3/envs/opencvtest/lib/python2.7/site-packages/skimage/io/_io.py:132: UserWarning: /data/gabriel/OCR/OCR_data/train_ac/unknown//1376.png is a low contrast image\n",
      "  warn('%s is a low contrast image' % fname)\n",
      "/home/gam2018/anaconda3/envs/opencvtest/lib/python2.7/site-packages/skimage/io/_io.py:132: UserWarning: /data/gabriel/OCR/OCR_data/train_ac/unknown//1277.png is a low contrast image\n",
      "  warn('%s is a low contrast image' % fname)\n"
     ]
    }
   ],
   "source": [
    "### This is to make the dataset based on images extracted, below code removes any images that are exact duplicates\n",
    "\n",
    "path = '/data/gabriel/OCR/OCR_data/train/'\n",
    "for (i,j,k) in os.walk(path):\n",
    "    unique=[]\n",
    "    dirs = []\n",
    "#     print(i)\n",
    "#     print('i^')\n",
    "#     print(j)\n",
    "#     print('j^')\n",
    "#     print(k)\n",
    "#     print('k^')\n",
    "    if len(j)==0:\n",
    "        for z in os.listdir(i):\n",
    "#            print(i)\n",
    "            #print(i+'//'+z)\n",
    "            a = plt.imread(i+'//'+z)\n",
    "            #unique.append(a)\n",
    "            #plt.imshow(a),plt.show()\n",
    "            \n",
    "            count=0\n",
    "            if(len(unique)==0):\n",
    "                unique.append(a)\n",
    "            flag=True\n",
    "            for x in unique:\n",
    "                if (np.allclose(a,x)) :\n",
    "                    #plt.imshow(x),plt.show()\n",
    "                    flag = False\n",
    "                    break\n",
    "            if(flag):\n",
    "                unique.append(a)\n",
    "                dirs.append(i+'//'+z)\n",
    "                \n",
    "        for bb,zz in zip(unique,dirs):\n",
    "            io.imsave(zz.replace('train','train_ac'),bb)\n",
    "#         plt.imshow(zz),plt.show()\n",
    "#         io.imsave('/data/gabriel/OCR/OCR_data/train/'+,zz)\n",
    "#         print(a.shape)\n",
    "#         break\n",
    "    #print(j)"
   ]
  },
  {
   "cell_type": "code",
   "execution_count": 11,
   "metadata": {
    "collapsed": false
   },
   "outputs": [],
   "source": [
    "### Converts single channel image to RGB, since pretrained models expect RGB\n",
    "path = '/data/gabriel/OCR/OCR_data/train/'\n",
    "for i,j,k in os.walk(path):\n",
    "    #print(i)\n",
    "    #print(j)\n",
    "    #print(k)\n",
    "    if(len(j)==0):\n",
    "        for l in k:\n",
    "            img = plt.imread(i+'//'+l)\n",
    "            if(len(img.shape)<3):\n",
    "                temp = np.zeros((img.shape[0],img.shape[1],3))\n",
    "                temp[:,:,0]=img\n",
    "                temp[:,:,1]=img\n",
    "                temp[:,:,2]=img\n",
    "\n",
    "                io.imsave(i+'//'+l,temp)\n"
   ]
  },
  {
   "cell_type": "code",
   "execution_count": 9,
   "metadata": {
    "collapsed": false
   },
   "outputs": [],
   "source": [
    "# for i,j,k in os.walk(path):\n",
    "#     if(len(j)==0):\n",
    "#         for l in k:\n",
    "#             if()\n",
    "#             print(plt.imread(i+'//'+l).shape)"
   ]
  }
 ],
 "metadata": {
  "anaconda-cloud": {},
  "kernelspec": {
   "display_name": "Python [conda env:opencvtest]",
   "language": "python",
   "name": "conda-env-opencvtest-py"
  },
  "language_info": {
   "codemirror_mode": {
    "name": "ipython",
    "version": 2
   },
   "file_extension": ".py",
   "mimetype": "text/x-python",
   "name": "python",
   "nbconvert_exporter": "python",
   "pygments_lexer": "ipython2",
   "version": "2.7.12"
  }
 },
 "nbformat": 4,
 "nbformat_minor": 1
}
